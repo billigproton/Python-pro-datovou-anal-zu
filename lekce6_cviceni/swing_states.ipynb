{
 "cells": [
  {
   "cell_type": "markdown",
   "metadata": {},
   "source": [
    "# Cvičení 2 - Swing states"
   ]
  },
  {
   "cell_type": "code",
   "execution_count": 1,
   "metadata": {},
   "outputs": [
    {
     "data": {
      "text/html": [
       "<div>\n",
       "<style scoped>\n",
       "    .dataframe tbody tr th:only-of-type {\n",
       "        vertical-align: middle;\n",
       "    }\n",
       "\n",
       "    .dataframe tbody tr th {\n",
       "        vertical-align: top;\n",
       "    }\n",
       "\n",
       "    .dataframe thead th {\n",
       "        text-align: right;\n",
       "    }\n",
       "</style>\n",
       "<table border=\"1\" class=\"dataframe\">\n",
       "  <thead>\n",
       "    <tr style=\"text-align: right;\">\n",
       "      <th></th>\n",
       "      <th>year</th>\n",
       "      <th>state</th>\n",
       "      <th>candidate</th>\n",
       "      <th>party_simplified</th>\n",
       "      <th>candidatevotes</th>\n",
       "      <th>rank</th>\n",
       "      <th>previous_winner_party</th>\n",
       "    </tr>\n",
       "  </thead>\n",
       "  <tbody>\n",
       "    <tr>\n",
       "      <th>3234</th>\n",
       "      <td>1980</td>\n",
       "      <td>PENNSYLVANIA</td>\n",
       "      <td>REAGAN, RONALD</td>\n",
       "      <td>REPUBLICAN</td>\n",
       "      <td>2261872</td>\n",
       "      <td>1.0</td>\n",
       "      <td>DEMOCRAT</td>\n",
       "    </tr>\n",
       "    <tr>\n",
       "      <th>3254</th>\n",
       "      <td>1992</td>\n",
       "      <td>PENNSYLVANIA</td>\n",
       "      <td>CLINTON, BILL</td>\n",
       "      <td>DEMOCRAT</td>\n",
       "      <td>2239164</td>\n",
       "      <td>1.0</td>\n",
       "      <td>REPUBLICAN</td>\n",
       "    </tr>\n",
       "    <tr>\n",
       "      <th>3288</th>\n",
       "      <td>2016</td>\n",
       "      <td>PENNSYLVANIA</td>\n",
       "      <td>TRUMP, DONALD J.</td>\n",
       "      <td>REPUBLICAN</td>\n",
       "      <td>2970733</td>\n",
       "      <td>1.0</td>\n",
       "      <td>DEMOCRAT</td>\n",
       "    </tr>\n",
       "    <tr>\n",
       "      <th>3293</th>\n",
       "      <td>2020</td>\n",
       "      <td>PENNSYLVANIA</td>\n",
       "      <td>BIDEN, JOSEPH R. JR</td>\n",
       "      <td>DEMOCRAT</td>\n",
       "      <td>3458229</td>\n",
       "      <td>1.0</td>\n",
       "      <td>REPUBLICAN</td>\n",
       "    </tr>\n",
       "  </tbody>\n",
       "</table>\n",
       "</div>"
      ],
      "text/plain": [
       "      year         state            candidate party_simplified  \\\n",
       "3234  1980  PENNSYLVANIA       REAGAN, RONALD       REPUBLICAN   \n",
       "3254  1992  PENNSYLVANIA        CLINTON, BILL         DEMOCRAT   \n",
       "3288  2016  PENNSYLVANIA     TRUMP, DONALD J.       REPUBLICAN   \n",
       "3293  2020  PENNSYLVANIA  BIDEN, JOSEPH R. JR         DEMOCRAT   \n",
       "\n",
       "      candidatevotes  rank previous_winner_party  \n",
       "3234         2261872   1.0              DEMOCRAT  \n",
       "3254         2239164   1.0            REPUBLICAN  \n",
       "3288         2970733   1.0              DEMOCRAT  \n",
       "3293         3458229   1.0            REPUBLICAN  "
      ]
     },
     "execution_count": 1,
     "metadata": {},
     "output_type": "execute_result"
    }
   ],
   "source": [
    "import pandas as pd\n",
    "\n",
    "data = pd.read_csv(\"election-data.csv\")\n",
    "\n",
    "data = data[(data[\"state\"] == \"PENNSYLVANIA\") & (data[\"rank\"] == 1)] # vyfiltrování státu Pensylvánie a pouze vítězů\n",
    "\n",
    "data[\"previous_winner_party\"] = data[\"party_simplified\"].shift(1) # shift sloupce party_simplified, abychom dostali výherce minulého období\n",
    "data = data.dropna() # vyhození prázdné hodnoty roku 1976 ze sloupce previous_winner_party - data nám tímto rokem začínají\n",
    "data[data[\"party_simplified\"] != data[\"previous_winner_party\"]] # vyfiltrování pouze těch roků, kdy došlo ke změně (,,swingu\") výherní strany oproti minulému období"
   ]
  }
 ],
 "metadata": {
  "kernelspec": {
   "display_name": "Python 3",
   "language": "python",
   "name": "python3"
  },
  "language_info": {
   "codemirror_mode": {
    "name": "ipython",
    "version": 3
   },
   "file_extension": ".py",
   "mimetype": "text/x-python",
   "name": "python",
   "nbconvert_exporter": "python",
   "pygments_lexer": "ipython3",
   "version": "3.12.2"
  }
 },
 "nbformat": 4,
 "nbformat_minor": 2
}

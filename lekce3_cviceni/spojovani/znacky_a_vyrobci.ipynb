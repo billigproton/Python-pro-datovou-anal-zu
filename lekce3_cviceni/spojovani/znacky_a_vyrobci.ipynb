{
 "cells": [
  {
   "cell_type": "markdown",
   "metadata": {},
   "source": [
    "# Cvičení 1 - značky a výrobci"
   ]
  },
  {
   "cell_type": "markdown",
   "metadata": {},
   "source": [
    "Načtení pandas a potřebných dat"
   ]
  },
  {
   "cell_type": "code",
   "execution_count": 8,
   "metadata": {},
   "outputs": [],
   "source": [
    "import pandas as pd\n",
    "\n",
    "branded_food = pd.read_csv(r'C:\\Users\\Lenovo\\OneDrive\\Dokumenty\\CZECHITAS-LAPTOP-BTGJD9J5\\Python pro datovou analýzu\\data\\branded_food.csv')\n",
    "food_merged = pd.read_csv(r'C:\\Users\\Lenovo\\OneDrive\\Dokumenty\\CZECHITAS-LAPTOP-BTGJD9J5\\Python pro datovou analýzu\\lekce3_cviceni\\food_merged.csv')"
   ]
  },
  {
   "cell_type": "markdown",
   "metadata": {},
   "source": [
    "Zobraz si prvních několik řádků tabulky a podívej se na to, jaké jsou v ní sloupce a jaké jsou v nich hodnoty."
   ]
  },
  {
   "cell_type": "code",
   "execution_count": 4,
   "metadata": {},
   "outputs": [
    {
     "data": {
      "text/html": [
       "<div>\n",
       "<style scoped>\n",
       "    .dataframe tbody tr th:only-of-type {\n",
       "        vertical-align: middle;\n",
       "    }\n",
       "\n",
       "    .dataframe tbody tr th {\n",
       "        vertical-align: top;\n",
       "    }\n",
       "\n",
       "    .dataframe thead th {\n",
       "        text-align: right;\n",
       "    }\n",
       "</style>\n",
       "<table border=\"1\" class=\"dataframe\">\n",
       "  <thead>\n",
       "    <tr style=\"text-align: right;\">\n",
       "      <th></th>\n",
       "      <th>fdc_id</th>\n",
       "      <th>brand_owner</th>\n",
       "      <th>brand_name</th>\n",
       "      <th>subbrand_name</th>\n",
       "      <th>gtin_upc</th>\n",
       "      <th>ingredients</th>\n",
       "      <th>not_a_significant_source_of</th>\n",
       "      <th>serving_size</th>\n",
       "      <th>serving_size_unit</th>\n",
       "      <th>household_serving_fulltext</th>\n",
       "      <th>branded_food_category</th>\n",
       "      <th>data_source</th>\n",
       "      <th>package_weight</th>\n",
       "      <th>modified_date</th>\n",
       "      <th>available_date</th>\n",
       "      <th>market_country</th>\n",
       "      <th>discontinued_date</th>\n",
       "      <th>preparation_state_code</th>\n",
       "      <th>trade_channel</th>\n",
       "      <th>short_description</th>\n",
       "    </tr>\n",
       "  </thead>\n",
       "  <tbody>\n",
       "    <tr>\n",
       "      <th>0</th>\n",
       "      <td>1106032</td>\n",
       "      <td>BRAKEBUSH BROTHERS INC.</td>\n",
       "      <td>NaN</td>\n",
       "      <td>NaN</td>\n",
       "      <td>10038034720202</td>\n",
       "      <td>INGREDIENTS: BONELESS CHICKEN BREAST MEAT WITH...</td>\n",
       "      <td>NaN</td>\n",
       "      <td>85.0</td>\n",
       "      <td>g</td>\n",
       "      <td>NaN</td>\n",
       "      <td>Meat/Poultry/Other Animals  Prepared/Processed</td>\n",
       "      <td>GDSN</td>\n",
       "      <td>NaN</td>\n",
       "      <td>2020-09-03</td>\n",
       "      <td>2020-11-13</td>\n",
       "      <td>United States</td>\n",
       "      <td>NaN</td>\n",
       "      <td>NaN</td>\n",
       "      <td>NaN</td>\n",
       "      <td>NaN</td>\n",
       "    </tr>\n",
       "    <tr>\n",
       "      <th>1</th>\n",
       "      <td>1107191</td>\n",
       "      <td>Mahco Inc</td>\n",
       "      <td>NaN</td>\n",
       "      <td>NaN</td>\n",
       "      <td>877448001674</td>\n",
       "      <td>TOMATO PUREE (TOMATOES), CARROTS, ONIONS, SUN-...</td>\n",
       "      <td>NaN</td>\n",
       "      <td>125.0</td>\n",
       "      <td>g</td>\n",
       "      <td>NaN</td>\n",
       "      <td>Prepared Pasta &amp; Pizza Sauces</td>\n",
       "      <td>LI</td>\n",
       "      <td>NaN</td>\n",
       "      <td>2020-09-22</td>\n",
       "      <td>2020-11-13</td>\n",
       "      <td>United States</td>\n",
       "      <td>NaN</td>\n",
       "      <td>NaN</td>\n",
       "      <td>NaN</td>\n",
       "      <td>NaN</td>\n",
       "    </tr>\n",
       "    <tr>\n",
       "      <th>2</th>\n",
       "      <td>1107295</td>\n",
       "      <td>Hormel Foods Corporation</td>\n",
       "      <td>NaN</td>\n",
       "      <td>NaN</td>\n",
       "      <td>37600665605</td>\n",
       "      <td>MASA FLOUR (GROUND WHITE CORN WITH A TRACE OF ...</td>\n",
       "      <td>NaN</td>\n",
       "      <td>30.0</td>\n",
       "      <td>g</td>\n",
       "      <td>NaN</td>\n",
       "      <td>Chips, Pretzels &amp; Snacks</td>\n",
       "      <td>LI</td>\n",
       "      <td>NaN</td>\n",
       "      <td>2020-04-08</td>\n",
       "      <td>2020-11-13</td>\n",
       "      <td>United States</td>\n",
       "      <td>NaN</td>\n",
       "      <td>NaN</td>\n",
       "      <td>NaN</td>\n",
       "      <td>NaN</td>\n",
       "    </tr>\n",
       "    <tr>\n",
       "      <th>3</th>\n",
       "      <td>1107475</td>\n",
       "      <td>HP Hood LLC</td>\n",
       "      <td>NaN</td>\n",
       "      <td>NaN</td>\n",
       "      <td>73570130330</td>\n",
       "      <td>CULTURED PASTEURIZED MILK, CREAM AND NONFAT MI...</td>\n",
       "      <td>NaN</td>\n",
       "      <td>31.0</td>\n",
       "      <td>g</td>\n",
       "      <td>NaN</td>\n",
       "      <td>Cheese</td>\n",
       "      <td>LI</td>\n",
       "      <td>NaN</td>\n",
       "      <td>2020-04-08</td>\n",
       "      <td>2020-11-13</td>\n",
       "      <td>United States</td>\n",
       "      <td>NaN</td>\n",
       "      <td>NaN</td>\n",
       "      <td>NaN</td>\n",
       "      <td>NaN</td>\n",
       "    </tr>\n",
       "    <tr>\n",
       "      <th>4</th>\n",
       "      <td>1107528</td>\n",
       "      <td>Bar-S Foods Co.</td>\n",
       "      <td>NaN</td>\n",
       "      <td>NaN</td>\n",
       "      <td>15900002115</td>\n",
       "      <td>MECHANICALLY SEPARATED CHICKEN, WATER, PORK, D...</td>\n",
       "      <td>NaN</td>\n",
       "      <td>56.0</td>\n",
       "      <td>g</td>\n",
       "      <td>NaN</td>\n",
       "      <td>Sausages, Hotdogs &amp; Brats</td>\n",
       "      <td>LI</td>\n",
       "      <td>NaN</td>\n",
       "      <td>2020-04-08</td>\n",
       "      <td>2020-11-13</td>\n",
       "      <td>United States</td>\n",
       "      <td>NaN</td>\n",
       "      <td>NaN</td>\n",
       "      <td>NaN</td>\n",
       "      <td>NaN</td>\n",
       "    </tr>\n",
       "  </tbody>\n",
       "</table>\n",
       "</div>"
      ],
      "text/plain": [
       "    fdc_id                brand_owner brand_name subbrand_name  \\\n",
       "0  1106032    BRAKEBUSH BROTHERS INC.        NaN           NaN   \n",
       "1  1107191                  Mahco Inc        NaN           NaN   \n",
       "2  1107295  Hormel Foods Corporation         NaN           NaN   \n",
       "3  1107475                HP Hood LLC        NaN           NaN   \n",
       "4  1107528            Bar-S Foods Co.        NaN           NaN   \n",
       "\n",
       "         gtin_upc                                        ingredients  \\\n",
       "0  10038034720202  INGREDIENTS: BONELESS CHICKEN BREAST MEAT WITH...   \n",
       "1    877448001674  TOMATO PUREE (TOMATOES), CARROTS, ONIONS, SUN-...   \n",
       "2     37600665605  MASA FLOUR (GROUND WHITE CORN WITH A TRACE OF ...   \n",
       "3     73570130330  CULTURED PASTEURIZED MILK, CREAM AND NONFAT MI...   \n",
       "4     15900002115  MECHANICALLY SEPARATED CHICKEN, WATER, PORK, D...   \n",
       "\n",
       "  not_a_significant_source_of  serving_size serving_size_unit  \\\n",
       "0                         NaN          85.0                 g   \n",
       "1                         NaN         125.0                 g   \n",
       "2                         NaN          30.0                 g   \n",
       "3                         NaN          31.0                 g   \n",
       "4                         NaN          56.0                 g   \n",
       "\n",
       "  household_serving_fulltext                           branded_food_category  \\\n",
       "0                        NaN  Meat/Poultry/Other Animals  Prepared/Processed   \n",
       "1                        NaN                   Prepared Pasta & Pizza Sauces   \n",
       "2                        NaN                        Chips, Pretzels & Snacks   \n",
       "3                        NaN                                          Cheese   \n",
       "4                        NaN                       Sausages, Hotdogs & Brats   \n",
       "\n",
       "  data_source package_weight modified_date available_date market_country  \\\n",
       "0        GDSN            NaN    2020-09-03     2020-11-13  United States   \n",
       "1          LI            NaN    2020-09-22     2020-11-13  United States   \n",
       "2          LI            NaN    2020-04-08     2020-11-13  United States   \n",
       "3          LI            NaN    2020-04-08     2020-11-13  United States   \n",
       "4          LI            NaN    2020-04-08     2020-11-13  United States   \n",
       "\n",
       "   discontinued_date preparation_state_code trade_channel short_description  \n",
       "0                NaN                    NaN           NaN               NaN  \n",
       "1                NaN                    NaN           NaN               NaN  \n",
       "2                NaN                    NaN           NaN               NaN  \n",
       "3                NaN                    NaN           NaN               NaN  \n",
       "4                NaN                    NaN           NaN               NaN  "
      ]
     },
     "execution_count": 4,
     "metadata": {},
     "output_type": "execute_result"
    }
   ],
   "source": [
    "branded_food.head()"
   ]
  },
  {
   "cell_type": "markdown",
   "metadata": {},
   "source": [
    "Ve sloupci brand_owner jsou názvy výrobců potravin. Zjisti tři výrobce s největším počtem potravin v tabulce. - Všimněte si, že tečkovou notaci můžu použít dvakrát a value_counts() i head() vyřešit v rámci jednoho řádku"
   ]
  },
  {
   "cell_type": "code",
   "execution_count": 5,
   "metadata": {},
   "outputs": [
    {
     "data": {
      "text/plain": [
       "brand_owner\n",
       "Wal-Mart Stores, Inc.    219\n",
       "Target Stores            199\n",
       "Meijer, Inc.             168\n",
       "Name: count, dtype: int64"
      ]
     },
     "execution_count": 5,
     "metadata": {},
     "output_type": "execute_result"
    }
   ],
   "source": [
    "branded_food['brand_owner'].value_counts().head(3)"
   ]
  },
  {
   "cell_type": "markdown",
   "metadata": {},
   "source": [
    "Ve sloupci branded_food_category jsou kategorie potravin. Zjisti pět kategorií s největších počtem potravin v tabulce."
   ]
  },
  {
   "cell_type": "code",
   "execution_count": 6,
   "metadata": {},
   "outputs": [
    {
     "data": {
      "text/plain": [
       "branded_food_category\n",
       "Popcorn, Peanuts, Seeds & Related Snacks    504\n",
       "Candy                                       415\n",
       "Cheese                                      405\n",
       "Ice Cream & Frozen Yogurt                   310\n",
       "Cookies & Biscuits                          272\n",
       "Name: count, dtype: int64"
      ]
     },
     "execution_count": 6,
     "metadata": {},
     "output_type": "execute_result"
    }
   ],
   "source": [
    "branded_food['branded_food_category'].value_counts().head(5)"
   ]
  },
  {
   "cell_type": "markdown",
   "metadata": {},
   "source": [
    "V tabulce je sloupec fdc_id, pomocí kterého ji můžeš propojit s tabulkou food_merged. Protože názvy jsou v obou tabulkách stejné, takže by bylo možné použít parametr on. Vyzkoušej si ale místo toho parametry left_on a right_on, kterým dáš stejnou hodnotu, tj. název sloupce fdc_id. Výsledek ulož do tabulky food_merged_brands."
   ]
  },
  {
   "cell_type": "code",
   "execution_count": 9,
   "metadata": {},
   "outputs": [],
   "source": [
    "food_merged_brands = pd.merge(food_merged, branded_food, right_on=\"fdc_id\", left_on=\"fdc_id\")\n",
    "\n",
    "food_merged_brands = food_merged_brands.to_csv('food_merged_brands.csv')"
   ]
  },
  {
   "cell_type": "markdown",
   "metadata": {},
   "source": [
    "U výsledné tabulky food_merged_brands zkontroluj počet řádků a srovnej ho s původní tabulkou food_merged. Ubyly nějaké řádky? A čím to je? - ubyly, protože jelikož jsme nespecifikovali typ joinu přes parametr how=, děláme výchozí  inner join => ve výsledku budou jen ty záznamy, jejichž id (fdc_id) je v obou tabulkách. Níže přikládám Vénnovy diagramy na zobrazení inner joinu."
   ]
  },
  {
   "cell_type": "markdown",
   "metadata": {},
   "source": [
    "![alt text](inner-join.png \"Title\")"
   ]
  },
  {
   "cell_type": "markdown",
   "metadata": {},
   "source": []
  },
  {
   "cell_type": "code",
   "execution_count": 10,
   "metadata": {},
   "outputs": [
    {
     "name": "stdout",
     "output_type": "stream",
     "text": [
      "(129280, 37)\n"
     ]
    }
   ],
   "source": [
    "print(food_merged_brands.shape)"
   ]
  },
  {
   "cell_type": "code",
   "execution_count": 11,
   "metadata": {},
   "outputs": [
    {
     "name": "stdout",
     "output_type": "stream",
     "text": [
      "(135332, 18)\n"
     ]
    }
   ],
   "source": [
    "print(food_merged.shape)"
   ]
  },
  {
   "cell_type": "markdown",
   "metadata": {},
   "source": [
    "Nyní proveď operaci merge znovu, ale s parametrem how nastaveným na hodnotu left. Zkontroluj počet řádků a porovnej ho s počtem řádků tabulky food_merged_brands. Proč se počet liší? - protože zde jsme specifikovali typ joinu na left join => vše z levé tabulky (food_merged) + záznamy, které jsou v obou tabulkách (průnik). Níže přikládám Vénnovy diagramy zobrazující left join."
   ]
  },
  {
   "cell_type": "markdown",
   "metadata": {},
   "source": [
    "![alt text](left-join.png \"Title\")"
   ]
  },
  {
   "cell_type": "code",
   "execution_count": 12,
   "metadata": {},
   "outputs": [],
   "source": [
    "food_merged_brands = pd.merge(food_merged, branded_food, right_on=\"fdc_id\", left_on=\"fdc_id\", how=\"left\")"
   ]
  },
  {
   "cell_type": "code",
   "execution_count": 13,
   "metadata": {},
   "outputs": [
    {
     "name": "stdout",
     "output_type": "stream",
     "text": [
      "(135332, 37)\n"
     ]
    }
   ],
   "source": [
    "print(food_merged_brands.shape)"
   ]
  }
 ],
 "metadata": {
  "kernelspec": {
   "display_name": "Python 3",
   "language": "python",
   "name": "python3"
  },
  "language_info": {
   "codemirror_mode": {
    "name": "ipython",
    "version": 3
   },
   "file_extension": ".py",
   "mimetype": "text/x-python",
   "name": "python",
   "nbconvert_exporter": "python",
   "pygments_lexer": "ipython3",
   "version": "3.11.5"
  }
 },
 "nbformat": 4,
 "nbformat_minor": 2
}

{
 "cells": [
  {
   "cell_type": "markdown",
   "metadata": {},
   "source": [
    "# Cvičení 2 - Přejmenování sloupce"
   ]
  },
  {
   "cell_type": "code",
   "execution_count": null,
   "metadata": {},
   "outputs": [],
   "source": [
    "import pandas as pd\n",
    "\n",
    "food_merged_brands = pd.read_csv('food_merged_brands.csv')\n",
    "\n"
   ]
  },
  {
   "cell_type": "markdown",
   "metadata": {},
   "source": [
    "Čím více tabulky propojujeme, tím více sloupců v nich máme. To může být časem až matoucí. Například máme v tabulce sloupec name, který označuje název výživné látky. Pro větší přehlednost ho přejmenujme na nutrient_name. K tomu slouží metoda rename. Níže je příklad toho, jak lze metodu použít. Pozorně si ho prohlédni. Metodu voláme pomocí tečkové notace, kterou už jsme využívali. Dále je potřeba zapsat název parametru (columns, protože chceme přejmenovat sloupce). Jako hodnotu vkládáme strukturu, která je označováno jako slovník. Jedná se o dvojici hodnot ve složených závorkách, která je oddělená dvojtečkou. Před dvojtečkou je starý název sloupce (v našem případě to bude name) a za dvojtečkou nový název sloupce (v našem případě to bude nutrition_name). Uprav tedy použití metody a spusť ho. Následně zkontroluj výsledek pomocí .columns."
   ]
  },
  {
   "cell_type": "code",
   "execution_count": 3,
   "metadata": {},
   "outputs": [],
   "source": [
    "food_merged_brands = food_merged_brands.rename(columns={\"name\": \"nutrient_name\"})\n",
    "\n",
    "food_merged_brands = food_merged_brands.to_csv('food_merged_brands_.csv')"
   ]
  },
  {
   "cell_type": "markdown",
   "metadata": {},
   "source": [
    "Jako bonus se zamysli nad tím, co by se mohlo stát, pokud na místo starého názvu zadáš sloupec, který v tabulce není (např. test). Jaké chování bys od metody očekával(a)? Jakmile to budeš mít rozmyšlené, použij metodu s neexistujícím názvem sloupce a zkontroluj, co se stalo. - kód doběhne, ale doopravdy to nic nepřejmenuje :)"
   ]
  },
  {
   "cell_type": "code",
   "execution_count": 2,
   "metadata": {},
   "outputs": [],
   "source": [
    "food_merged_brands = food_merged_brands.rename(columns={\"test\": \"nutrient_name\"})"
   ]
  }
 ],
 "metadata": {
  "kernelspec": {
   "display_name": "Python 3",
   "language": "python",
   "name": "python3"
  },
  "language_info": {
   "codemirror_mode": {
    "name": "ipython",
    "version": 3
   },
   "file_extension": ".py",
   "mimetype": "text/x-python",
   "name": "python",
   "nbconvert_exporter": "python",
   "pygments_lexer": "ipython3",
   "version": "3.11.5"
  }
 },
 "nbformat": 4,
 "nbformat_minor": 2
}

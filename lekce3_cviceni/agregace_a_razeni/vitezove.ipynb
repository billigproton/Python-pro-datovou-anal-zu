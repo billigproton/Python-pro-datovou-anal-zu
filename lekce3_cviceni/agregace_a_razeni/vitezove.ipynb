{
 "cells": [
  {
   "cell_type": "markdown",
   "metadata": {},
   "source": [
    "# Cvičení 4 - Vítězové"
   ]
  },
  {
   "cell_type": "code",
   "execution_count": 1,
   "metadata": {},
   "outputs": [
    {
     "name": "stdout",
     "output_type": "stream",
     "text": [
      "   year    state              party_detailed  candidatevotes  Rank\n",
      "0  1976  ALABAMA                    DEMOCRAT          659170   1.0\n",
      "1  1976  ALABAMA                  REPUBLICAN          504070   2.0\n",
      "2  1976  ALABAMA  AMERICAN INDEPENDENT PARTY            9198   3.0\n",
      "3  1976  ALABAMA                 PROHIBITION            6669   4.0\n",
      "4  1976  ALABAMA         COMMUNIST PARTY USE            1954   5.0\n"
     ]
    }
   ],
   "source": [
    "import pandas as pd\n",
    "\n",
    "# Načtení dat\n",
    "votes = pd.read_csv('votes.csv')\n",
    "\n",
    "# Přidání sloupce s pořadím kandidátů v každém státě a roce\n",
    "votes['Rank'] = votes.groupby(['state', 'year'])['candidatevotes'].rank(ascending=False)\n",
    "\n",
    "# Zobrazení prvních několika řádků výsledku\n",
    "print(votes[['year', 'state', 'party_detailed', 'candidatevotes', 'Rank']].head())"
   ]
  },
  {
   "cell_type": "markdown",
   "metadata": {},
   "source": []
  },
  {
   "cell_type": "code",
   "execution_count": 5,
   "metadata": {},
   "outputs": [
    {
     "name": "stdout",
     "output_type": "stream",
     "text": [
      "      year          state party_detailed  candidatevotes\n",
      "0     1976        ALABAMA       DEMOCRAT          659170\n",
      "7     1976         ALASKA     REPUBLICAN           71555\n",
      "11    1976        ARIZONA     REPUBLICAN          418642\n",
      "19    1976       ARKANSAS       DEMOCRAT          498604\n",
      "23    1976     CALIFORNIA     REPUBLICAN         3882244\n",
      "...    ...            ...            ...             ...\n",
      "4252  2020       VIRGINIA       DEMOCRAT         2413568\n",
      "4256  2020     WASHINGTON       DEMOCRAT         2369612\n",
      "4264  2020  WEST VIRGINIA     REPUBLICAN          545382\n",
      "4267  2020      WISCONSIN       DEMOCRAT         1630866\n",
      "4281  2020        WYOMING     REPUBLICAN          193559\n",
      "\n",
      "[612 rows x 4 columns]\n"
     ]
    }
   ],
   "source": [
    "winners = votes[votes['Rank'] == 1]\n",
    "print(winners[['year', 'state', 'party_detailed', 'candidatevotes']])"
   ]
  }
 ],
 "metadata": {
  "kernelspec": {
   "display_name": "Python 3",
   "language": "python",
   "name": "python3"
  },
  "language_info": {
   "codemirror_mode": {
    "name": "ipython",
    "version": 3
   },
   "file_extension": ".py",
   "mimetype": "text/x-python",
   "name": "python",
   "nbconvert_exporter": "python",
   "pygments_lexer": "ipython3",
   "version": "3.12.7"
  }
 },
 "nbformat": 4,
 "nbformat_minor": 2
}

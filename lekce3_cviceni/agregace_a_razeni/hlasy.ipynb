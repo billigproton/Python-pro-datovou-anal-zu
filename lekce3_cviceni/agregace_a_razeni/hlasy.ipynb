{
 "cells": [
  {
   "cell_type": "markdown",
   "metadata": {},
   "source": [
    "# Cvičení 3 - Hlasy"
   ]
  },
  {
   "cell_type": "markdown",
   "metadata": {},
   "source": [
    "V souboru votes.csv, který obsahuje data o výsledcích voleb ve Spojených státech amerických v období 1976 až 2020. Důležité pro nás budou následující sloupce:\n",
    "\n",
    "- year - rok,\n",
    "- state - stát,\n",
    "- party_detailed - strana, za kterou kandidát(ka) kandidoval(a),\n",
    "- candidatevotes - počet hlasů pro kandidáta (kandidátku) v daném roce a státě.\n",
    "\n",
    "Vytvoř tabulky, které budou zobrazovat následující data.\n",
    "\n",
    "1. Celkový počet odevzdaných hlasů v jednotlivých letech.\n",
    "2. Celkový počet odevzdaných hlasů pro kandidáty a kandidátky jednotlivých stran pro volby v roce 2020.\n",
    "3. Celkový počet odevzdaných hlasů pro kandidáty dvou hlavních stran (DEMOCRAT a REPUBLICAN) pro všechny volby od roku 2020.\n",
    "4. Celkový počet odevzdaných hlasů pro stát MONTANA pro všechny roky."
   ]
  },
  {
   "cell_type": "markdown",
   "metadata": {},
   "source": []
  },
  {
   "cell_type": "code",
   "execution_count": 1,
   "metadata": {},
   "outputs": [],
   "source": [
    "import pandas as pd\n",
    "\n",
    "votes = pd.read_csv('votes.csv')"
   ]
  },
  {
   "cell_type": "code",
   "execution_count": 2,
   "metadata": {},
   "outputs": [
    {
     "data": {
      "text/html": [
       "<div>\n",
       "<style scoped>\n",
       "    .dataframe tbody tr th:only-of-type {\n",
       "        vertical-align: middle;\n",
       "    }\n",
       "\n",
       "    .dataframe tbody tr th {\n",
       "        vertical-align: top;\n",
       "    }\n",
       "\n",
       "    .dataframe thead th {\n",
       "        text-align: right;\n",
       "    }\n",
       "</style>\n",
       "<table border=\"1\" class=\"dataframe\">\n",
       "  <thead>\n",
       "    <tr style=\"text-align: right;\">\n",
       "      <th></th>\n",
       "      <th>year</th>\n",
       "      <th>state</th>\n",
       "      <th>state_po</th>\n",
       "      <th>state_fips</th>\n",
       "      <th>state_cen</th>\n",
       "      <th>state_ic</th>\n",
       "      <th>office</th>\n",
       "      <th>candidate</th>\n",
       "      <th>party_detailed</th>\n",
       "      <th>writein</th>\n",
       "      <th>candidatevotes</th>\n",
       "      <th>totalvotes</th>\n",
       "      <th>version</th>\n",
       "      <th>notes</th>\n",
       "      <th>party_simplified</th>\n",
       "    </tr>\n",
       "  </thead>\n",
       "  <tbody>\n",
       "    <tr>\n",
       "      <th>0</th>\n",
       "      <td>1976</td>\n",
       "      <td>ALABAMA</td>\n",
       "      <td>AL</td>\n",
       "      <td>1</td>\n",
       "      <td>63</td>\n",
       "      <td>41</td>\n",
       "      <td>US PRESIDENT</td>\n",
       "      <td>CARTER, JIMMY</td>\n",
       "      <td>DEMOCRAT</td>\n",
       "      <td>False</td>\n",
       "      <td>659170</td>\n",
       "      <td>1182850</td>\n",
       "      <td>20210113</td>\n",
       "      <td>NaN</td>\n",
       "      <td>DEMOCRAT</td>\n",
       "    </tr>\n",
       "    <tr>\n",
       "      <th>1</th>\n",
       "      <td>1976</td>\n",
       "      <td>ALABAMA</td>\n",
       "      <td>AL</td>\n",
       "      <td>1</td>\n",
       "      <td>63</td>\n",
       "      <td>41</td>\n",
       "      <td>US PRESIDENT</td>\n",
       "      <td>FORD, GERALD</td>\n",
       "      <td>REPUBLICAN</td>\n",
       "      <td>False</td>\n",
       "      <td>504070</td>\n",
       "      <td>1182850</td>\n",
       "      <td>20210113</td>\n",
       "      <td>NaN</td>\n",
       "      <td>REPUBLICAN</td>\n",
       "    </tr>\n",
       "    <tr>\n",
       "      <th>2</th>\n",
       "      <td>1976</td>\n",
       "      <td>ALABAMA</td>\n",
       "      <td>AL</td>\n",
       "      <td>1</td>\n",
       "      <td>63</td>\n",
       "      <td>41</td>\n",
       "      <td>US PRESIDENT</td>\n",
       "      <td>MADDOX, LESTER</td>\n",
       "      <td>AMERICAN INDEPENDENT PARTY</td>\n",
       "      <td>False</td>\n",
       "      <td>9198</td>\n",
       "      <td>1182850</td>\n",
       "      <td>20210113</td>\n",
       "      <td>NaN</td>\n",
       "      <td>OTHER</td>\n",
       "    </tr>\n",
       "    <tr>\n",
       "      <th>3</th>\n",
       "      <td>1976</td>\n",
       "      <td>ALABAMA</td>\n",
       "      <td>AL</td>\n",
       "      <td>1</td>\n",
       "      <td>63</td>\n",
       "      <td>41</td>\n",
       "      <td>US PRESIDENT</td>\n",
       "      <td>BUBAR, BENJAMIN \"\"BEN\"\"</td>\n",
       "      <td>PROHIBITION</td>\n",
       "      <td>False</td>\n",
       "      <td>6669</td>\n",
       "      <td>1182850</td>\n",
       "      <td>20210113</td>\n",
       "      <td>NaN</td>\n",
       "      <td>OTHER</td>\n",
       "    </tr>\n",
       "    <tr>\n",
       "      <th>4</th>\n",
       "      <td>1976</td>\n",
       "      <td>ALABAMA</td>\n",
       "      <td>AL</td>\n",
       "      <td>1</td>\n",
       "      <td>63</td>\n",
       "      <td>41</td>\n",
       "      <td>US PRESIDENT</td>\n",
       "      <td>HALL, GUS</td>\n",
       "      <td>COMMUNIST PARTY USE</td>\n",
       "      <td>False</td>\n",
       "      <td>1954</td>\n",
       "      <td>1182850</td>\n",
       "      <td>20210113</td>\n",
       "      <td>NaN</td>\n",
       "      <td>OTHER</td>\n",
       "    </tr>\n",
       "  </tbody>\n",
       "</table>\n",
       "</div>"
      ],
      "text/plain": [
       "   year    state state_po  state_fips  state_cen  state_ic        office  \\\n",
       "0  1976  ALABAMA       AL           1         63        41  US PRESIDENT   \n",
       "1  1976  ALABAMA       AL           1         63        41  US PRESIDENT   \n",
       "2  1976  ALABAMA       AL           1         63        41  US PRESIDENT   \n",
       "3  1976  ALABAMA       AL           1         63        41  US PRESIDENT   \n",
       "4  1976  ALABAMA       AL           1         63        41  US PRESIDENT   \n",
       "\n",
       "                 candidate              party_detailed writein  \\\n",
       "0            CARTER, JIMMY                    DEMOCRAT   False   \n",
       "1             FORD, GERALD                  REPUBLICAN   False   \n",
       "2           MADDOX, LESTER  AMERICAN INDEPENDENT PARTY   False   \n",
       "3  BUBAR, BENJAMIN \"\"BEN\"\"                 PROHIBITION   False   \n",
       "4                HALL, GUS         COMMUNIST PARTY USE   False   \n",
       "\n",
       "   candidatevotes  totalvotes   version  notes party_simplified  \n",
       "0          659170     1182850  20210113    NaN         DEMOCRAT  \n",
       "1          504070     1182850  20210113    NaN       REPUBLICAN  \n",
       "2            9198     1182850  20210113    NaN            OTHER  \n",
       "3            6669     1182850  20210113    NaN            OTHER  \n",
       "4            1954     1182850  20210113    NaN            OTHER  "
      ]
     },
     "execution_count": 2,
     "metadata": {},
     "output_type": "execute_result"
    }
   ],
   "source": [
    "votes.head()"
   ]
  },
  {
   "cell_type": "code",
   "execution_count": 4,
   "metadata": {},
   "outputs": [
    {
     "name": "stdout",
     "output_type": "stream",
     "text": [
      "Celkový počet odevzdaných hlasů v jednotlivých letech:\n",
      "year\n",
      "1976     81601344\n",
      "1980     86496851\n",
      "1984     92654861\n",
      "1988     91586825\n",
      "1992    104599780\n",
      "1996     96389818\n",
      "2000    105593982\n",
      "2004    122349450\n",
      "2008    131419253\n",
      "2012    129139997\n",
      "2016    136787187\n",
      "2020    158528503\n",
      "Name: candidatevotes, dtype: int64\n"
     ]
    }
   ],
   "source": [
    "total_votes_per_year = votes.groupby('year')['candidatevotes'].sum()\n",
    "total_votes_per_year.columns = ['Year', 'Total Votes']\n",
    "print(\"Celkový počet odevzdaných hlasů v jednotlivých letech:\")\n",
    "print(total_votes_per_year)"
   ]
  },
  {
   "cell_type": "code",
   "execution_count": 10,
   "metadata": {},
   "outputs": [
    {
     "name": "stdout",
     "output_type": "stream",
     "text": [
      "\n",
      "Celkový počet odevzdaných hlasů pro kandidáty jednotlivých stran v roce 2020:\n",
      "                                       Party  Total Votes\n",
      "15                                  DEMOCRAT     81268908\n",
      "35                                REPUBLICAN     74216146\n",
      "23                               LIBERTARIAN      1797355\n",
      "18                                     GREEN       370947\n",
      "21                               INDEPENDENT       210778\n",
      "4                  AMERICAN SOLIDARITY PARTY        60982\n",
      "1                       AMERICAN INDEPENDENT        60160\n",
      "31                           PEACE & FREEDOM        51037\n",
      "13                        CONSTITUTION PARTY        45944\n",
      "30        PARTY FOR SOCIALISM AND LIBERATION        31255\n",
      "0                                   ALLIANCE        19334\n",
      "19                             GREEN-RAINBOW        18658\n",
      "39                        THE BIRTHDAY PARTY        15535\n",
      "29                             PACIFIC GREEN        11831\n",
      "42                        US TAXPAYERS PARTY         7235\n",
      "41                               UNITY PARTY         6647\n",
      "9                            BREAD AND ROSES         5949\n",
      "32                         PROGRESSIVE PARTY         5367\n",
      "38                   SOCIALIST WORKERS PARTY         4020\n",
      "22                INDEPENDENT AMERICAN PARTY         3900\n",
      "27                               NATURAL LAW         2986\n",
      "7                        BECOMING ONE NATION         2702\n",
      "14                        DC STATEHOOD GREEN         1726\n",
      "26                    LIFE AND LIBERTY PARTY         1372\n",
      "2                    AMERICAN SHOPPING PARTY         1183\n",
      "20                       GRUMPY OLD PATRIOTS         1175\n",
      "11                                     C.U.P         1125\n",
      "16                    FREEDOM AND PROSPERITY          749\n",
      "25              LIFE , LIBERTY, CONSTITUTION          668\n",
      "34                         PROHIBITION PARTY          577\n",
      "17  GENEOLOGY KNOW YOUR FAMILY HISTORY PARTY          546\n",
      "6                      APPROVAL VOTING PARTY          355\n",
      "3                        AMERICAN SOLIDARITY          209\n",
      "12                              CONSTITUTION          208\n",
      "36                  SOCIALIST EQUALITY PARTY          196\n",
      "37                         SOCIALIST WORKERS          195\n",
      "24                             LIBERTY UNION          166\n",
      "8                               BOILING FROG          141\n",
      "33                               PROHIBITION          137\n",
      "10                                BULL MOOSE          126\n",
      "28                            NON-AFFILIATED          117\n",
      "40                              UNAFFILIATED          100\n",
      "5                            APPROVAL VOTING           54\n"
     ]
    }
   ],
   "source": [
    "votes_2020 = votes[votes['year'] == 2020]\n",
    "total_votes_per_party_2020 = votes_2020.groupby('party_detailed')['candidatevotes'].sum().reset_index().sort_values(by='candidatevotes', ascending=False)\n",
    "total_votes_per_party_2020.columns = ['Party', 'Total Votes']\n",
    "print(\"\\nCelkový počet odevzdaných hlasů pro kandidáty jednotlivých stran v roce 2020:\")\n",
    "print(total_votes_per_party_2020)"
   ]
  },
  {
   "cell_type": "code",
   "execution_count": 6,
   "metadata": {},
   "outputs": [
    {
     "name": "stdout",
     "output_type": "stream",
     "text": [
      "\n",
      "Celkový počet odevzdaných hlasů pro kandidáty stran DEMOCRAT a REPUBLICAN od roku 2020:\n",
      "        Party  Total Votes\n",
      "0    DEMOCRAT     81268908\n",
      "1  REPUBLICAN     74216146\n"
     ]
    }
   ],
   "source": [
    "votes_since_2020 = votes[votes['year'] >= 2020]\n",
    "votes_main_parties = votes_since_2020[votes_since_2020['party_detailed'].isin(['DEMOCRAT', 'REPUBLICAN'])]\n",
    "total_votes_main_parties = votes_main_parties.groupby(['party_detailed'])['candidatevotes'].sum().reset_index()\n",
    "total_votes_main_parties.columns = ['Party', 'Total Votes']\n",
    "print(\"\\nCelkový počet odevzdaných hlasů pro kandidáty stran DEMOCRAT a REPUBLICAN od roku 2020:\")\n",
    "print(total_votes_main_parties)"
   ]
  },
  {
   "cell_type": "code",
   "execution_count": 7,
   "metadata": {},
   "outputs": [
    {
     "name": "stdout",
     "output_type": "stream",
     "text": [
      "\n",
      "Celkový počet odevzdaných hlasů pro stát MONTANA pro všechny roky:\n",
      "5194180\n"
     ]
    }
   ],
   "source": [
    "votes_montana = votes[votes['state'] == 'MONTANA']\n",
    "total_votes_montana = votes_montana['candidatevotes'].sum()\n",
    "print(\"\\nCelkový počet odevzdaných hlasů pro stát MONTANA pro všechny roky:\")\n",
    "print(total_votes_montana)"
   ]
  }
 ],
 "metadata": {
  "kernelspec": {
   "display_name": "Python 3",
   "language": "python",
   "name": "python3"
  },
  "language_info": {
   "codemirror_mode": {
    "name": "ipython",
    "version": 3
   },
   "file_extension": ".py",
   "mimetype": "text/x-python",
   "name": "python",
   "nbconvert_exporter": "python",
   "pygments_lexer": "ipython3",
   "version": "3.12.7"
  }
 },
 "nbformat": 4,
 "nbformat_minor": 2
}

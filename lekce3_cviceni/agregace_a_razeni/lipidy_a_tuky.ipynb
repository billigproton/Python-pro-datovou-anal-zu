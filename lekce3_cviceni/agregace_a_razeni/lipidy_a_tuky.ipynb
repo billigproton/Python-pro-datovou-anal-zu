{
 "cells": [
  {
   "cell_type": "markdown",
   "metadata": {},
   "source": [
    "# Cvičení 1 - Lipidy a tuky"
   ]
  },
  {
   "cell_type": "code",
   "execution_count": null,
   "metadata": {},
   "outputs": [],
   "source": [
    "import pandas as pd\n",
    "\n",
    "food_merged_brands = pd.read_csv(r'C:\\Users\\Lenovo\\OneDrive\\Dokumenty\\CZECHITAS-LAPTOP-BTGJD9J5\\Python pro datovou analýzu\\lekce3_cviceni\\spojovani\\food_merged_brands_.csv')"
   ]
  },
  {
   "cell_type": "markdown",
   "metadata": {},
   "source": [
    "Podívej se nyní na to, které kategorie potravin obsahují nejvíce lipidů (tuků). Nejprve pomocí dotazu vytvořit novou tabulku food_merged_brands_lipid, do které pomocí dotazu vlož pouze řádky, které mají jako název výživné látky hodnotu Total lipid (fat). Poté proveď agregaci podle návu kategorie a seřaď výslednou tabulku tak, aby nahoře byly vidět kategorie s největším počtem tuků. Porovnej si výslednou tabulku s tabulkou food_merged_brands_protein_agg, kterou jsme vytvořili v rámci lekce. Podívej se, zda se některé kategorie objevují v obou tabulkách."
   ]
  },
  {
   "cell_type": "code",
   "execution_count": 12,
   "metadata": {},
   "outputs": [],
   "source": [
    "food_merged_brands_lipid = food_merged_brands[food_merged_brands[\"nutrient_name\"] == \"Total lipid (fat)\"]"
   ]
  },
  {
   "cell_type": "code",
   "execution_count": 10,
   "metadata": {},
   "outputs": [],
   "source": [
    "food_merged_brands_lipid_agg = food_merged_brands_lipid.groupby(\"branded_food_category\")[\"amount\"].mean()"
   ]
  },
  {
   "cell_type": "code",
   "execution_count": 11,
   "metadata": {},
   "outputs": [
    {
     "data": {
      "text/plain": [
       "branded_food_category\n",
       "Oils Edible                                        93.330000\n",
       "Vegetable & Cooking Oils                           78.012391\n",
       "Butter & Spread                                    66.552667\n",
       "Butter/Butter Substitutes                          63.965000\n",
       "Meat/Poultry/Other Animals – Prepared/Processed    59.520000\n",
       "                                                     ...    \n",
       "Green Supplements                                   0.000000\n",
       "Health Care                                         0.000000\n",
       "Herbs/Spices/Extracts                               0.000000\n",
       "Honey                                               0.000000\n",
       "Plant Based Water                                   0.000000\n",
       "Name: amount, Length: 193, dtype: float64"
      ]
     },
     "execution_count": 11,
     "metadata": {},
     "output_type": "execute_result"
    }
   ],
   "source": [
    "food_merged_brands_lipid_agg.sort_values(ascending=False)"
   ]
  }
 ],
 "metadata": {
  "kernelspec": {
   "display_name": "Python 3",
   "language": "python",
   "name": "python3"
  },
  "language_info": {
   "codemirror_mode": {
    "name": "ipython",
    "version": 3
   },
   "file_extension": ".py",
   "mimetype": "text/x-python",
   "name": "python",
   "nbconvert_exporter": "python",
   "pygments_lexer": "ipython3",
   "version": "3.11.5"
  }
 },
 "nbformat": 4,
 "nbformat_minor": 2
}

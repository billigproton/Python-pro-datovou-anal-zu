{
 "cells": [
  {
   "cell_type": "markdown",
   "metadata": {},
   "source": [
    "# Cvičení 1 - Lipidy a tuky"
   ]
  },
  {
   "cell_type": "code",
   "execution_count": 6,
   "metadata": {},
   "outputs": [
    {
     "name": "stderr",
     "output_type": "stream",
     "text": [
      "C:\\Users\\Daniel Rabiencný\\AppData\\Local\\Temp\\ipykernel_11476\\2973274315.py:3: DtypeWarning: Columns (21,22,25,28,31,36,37,38) have mixed types. Specify dtype option on import or set low_memory=False.\n",
      "  food_merged_brands = pd.read_csv(r'C:\\Users\\Daniel Rabiencný\\OneDrive\\Dokumenty\\CZECHITAS-LAPTOP-BTGJD9J5\\Python pro datovou analýzu\\lekce3_cviceni\\spojovani\\food_merged_brands_.csv')\n"
     ]
    }
   ],
   "source": [
    "import pandas as pd\n",
    "\n",
    "food_merged_brands = pd.read_csv(r'C:\\Users\\Daniel Rabiencný\\OneDrive\\Dokumenty\\CZECHITAS-LAPTOP-BTGJD9J5\\Python pro datovou analýzu\\lekce3_cviceni\\spojovani\\food_merged_brands_.csv')"
   ]
  },
  {
   "cell_type": "markdown",
   "metadata": {},
   "source": [
    "Podívej se nyní na to, které kategorie potravin obsahují nejvíce lipidů (tuků). Nejprve pomocí dotazu vytvořit novou tabulku food_merged_brands_lipid, do které pomocí dotazu vlož pouze řádky, které mají jako název výživné látky hodnotu Total lipid (fat). Poté proveď agregaci podle návu kategorie a seřaď výslednou tabulku tak, aby nahoře byly vidět kategorie s největším počtem tuků. Porovnej si výslednou tabulku s tabulkou food_merged_brands_protein_agg, kterou jsme vytvořili v rámci lekce. Podívej se, zda se některé kategorie objevují v obou tabulkách."
   ]
  },
  {
   "cell_type": "code",
   "execution_count": 7,
   "metadata": {},
   "outputs": [
    {
     "data": {
      "text/plain": [
       "Index(['Unnamed: 0.2', 'Unnamed: 0.1', 'Unnamed: 0', 'fdc_id', 'data_type',\n",
       "       'description', 'food_category_id', 'publication_date', 'nutrient_id',\n",
       "       'amount', 'data_points', 'derivation_id', 'min', 'max', 'median', 'loq',\n",
       "       'footnote', 'min_year_acquired', 'nutrient_name', 'unit_name',\n",
       "       'brand_owner', 'brand_name', 'subbrand_name', 'gtin_upc', 'ingredients',\n",
       "       'not_a_significant_source_of', 'serving_size', 'serving_size_unit',\n",
       "       'household_serving_fulltext', 'branded_food_category', 'data_source',\n",
       "       'package_weight', 'modified_date', 'available_date', 'market_country',\n",
       "       'discontinued_date', 'preparation_state_code', 'trade_channel',\n",
       "       'short_description'],\n",
       "      dtype='object')"
      ]
     },
     "execution_count": 7,
     "metadata": {},
     "output_type": "execute_result"
    }
   ],
   "source": [
    "food_merged_brands.columns"
   ]
  },
  {
   "cell_type": "code",
   "execution_count": 8,
   "metadata": {},
   "outputs": [],
   "source": [
    "food_merged_brands_lipid = food_merged_brands[food_merged_brands[\"nutrient_name\"] == \"Total lipid (fat)\"]"
   ]
  },
  {
   "cell_type": "code",
   "execution_count": 9,
   "metadata": {},
   "outputs": [],
   "source": [
    "food_merged_brands_lipid_agg = food_merged_brands_lipid.groupby(\"branded_food_category\")[\"amount\"].mean()"
   ]
  },
  {
   "cell_type": "code",
   "execution_count": 11,
   "metadata": {},
   "outputs": [
    {
     "data": {
      "text/plain": [
       "branded_food_category\n",
       "Oils Edible                                        93.330000\n",
       "Vegetable & Cooking Oils                           78.012391\n",
       "Butter & Spread                                    66.552667\n",
       "Butter/Butter Substitutes                          63.965000\n",
       "Meat/Poultry/Other Animals – Prepared/Processed    59.520000\n",
       "                                                     ...    \n",
       "Green Supplements                                   0.000000\n",
       "Health Care                                         0.000000\n",
       "Herbs/Spices/Extracts                               0.000000\n",
       "Honey                                               0.000000\n",
       "Plant Based Water                                   0.000000\n",
       "Name: amount, Length: 193, dtype: float64"
      ]
     },
     "execution_count": 11,
     "metadata": {},
     "output_type": "execute_result"
    }
   ],
   "source": [
    "food_merged_brands_lipid_agg.sort_values(ascending=False)"
   ]
  }
 ],
 "metadata": {
  "kernelspec": {
   "display_name": "Python 3",
   "language": "python",
   "name": "python3"
  },
  "language_info": {
   "codemirror_mode": {
    "name": "ipython",
    "version": 3
   },
   "file_extension": ".py",
   "mimetype": "text/x-python",
   "name": "python",
   "nbconvert_exporter": "python",
   "pygments_lexer": "ipython3",
   "version": "3.12.7"
  }
 },
 "nbformat": 4,
 "nbformat_minor": 2
}

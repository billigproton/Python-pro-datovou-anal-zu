{
 "cells": [
  {
   "cell_type": "markdown",
   "metadata": {},
   "source": [
    "# Cvičení 2 - Výrobci a kategorie"
   ]
  },
  {
   "cell_type": "markdown",
   "metadata": {},
   "source": [
    "Nyní uvažuj, že si chceme udělat přehled o tom, jaký výrobce produkuje jaké typy potravin. Proveď agregaci tabulky food_merged_brands podle dvou sloupců: brand_owner a branded_food_category. Sloupce musíš metodě food_merged_brands zadat jako seznam, tj. musíš použít hranaté závorky. Dále vyber sloupec fdc_id pro provedení agregace a použij agregaci nunique(), který vrátí počet unikátních hodnot. Nakonec použij metodu sort_values s tím, že chceš data seřadit sestupně."
   ]
  },
  {
   "cell_type": "code",
   "execution_count": 2,
   "metadata": {},
   "outputs": [
    {
     "name": "stderr",
     "output_type": "stream",
     "text": [
      "C:\\Users\\Daniel Rabiencný\\AppData\\Local\\Temp\\ipykernel_11360\\2973274315.py:3: DtypeWarning: Columns (21,22,25,28,31,36,37,38) have mixed types. Specify dtype option on import or set low_memory=False.\n",
      "  food_merged_brands = pd.read_csv(r'C:\\Users\\Daniel Rabiencný\\OneDrive\\Dokumenty\\CZECHITAS-LAPTOP-BTGJD9J5\\Python pro datovou analýzu\\lekce3_cviceni\\spojovani\\food_merged_brands_.csv')\n"
     ]
    }
   ],
   "source": [
    "import pandas as pd\n",
    "\n",
    "food_merged_brands = pd.read_csv(r'C:\\Users\\Daniel Rabiencný\\OneDrive\\Dokumenty\\CZECHITAS-LAPTOP-BTGJD9J5\\Python pro datovou analýzu\\lekce3_cviceni\\spojovani\\food_merged_brands_.csv')"
   ]
  },
  {
   "cell_type": "code",
   "execution_count": 67,
   "metadata": {},
   "outputs": [
    {
     "data": {
      "text/html": [
       "<div>\n",
       "<style scoped>\n",
       "    .dataframe tbody tr th:only-of-type {\n",
       "        vertical-align: middle;\n",
       "    }\n",
       "\n",
       "    .dataframe tbody tr th {\n",
       "        vertical-align: top;\n",
       "    }\n",
       "\n",
       "    .dataframe thead th {\n",
       "        text-align: right;\n",
       "    }\n",
       "</style>\n",
       "<table border=\"1\" class=\"dataframe\">\n",
       "  <thead>\n",
       "    <tr style=\"text-align: right;\">\n",
       "      <th></th>\n",
       "      <th>brand_owner</th>\n",
       "      <th>branded_food_category</th>\n",
       "      <th>fdc_id</th>\n",
       "    </tr>\n",
       "  </thead>\n",
       "  <tbody>\n",
       "    <tr>\n",
       "      <th>658</th>\n",
       "      <td>7-Eleven, Inc.</td>\n",
       "      <td>Chips, Pretzels &amp; Snacks</td>\n",
       "      <td>3</td>\n",
       "    </tr>\n",
       "    <tr>\n",
       "      <th>692</th>\n",
       "      <td>7-Eleven, Inc.</td>\n",
       "      <td>Candy</td>\n",
       "      <td>2</td>\n",
       "    </tr>\n",
       "    <tr>\n",
       "      <th>1495</th>\n",
       "      <td>7-Eleven, Inc.</td>\n",
       "      <td>Ice Cream &amp; Frozen Yogurt</td>\n",
       "      <td>2</td>\n",
       "    </tr>\n",
       "    <tr>\n",
       "      <th>1496</th>\n",
       "      <td>7-Eleven, Inc.</td>\n",
       "      <td>Popcorn, Peanuts, Seeds &amp; Related Snacks</td>\n",
       "      <td>2</td>\n",
       "    </tr>\n",
       "    <tr>\n",
       "      <th>1497</th>\n",
       "      <td>7-Eleven, Inc.</td>\n",
       "      <td>Soda</td>\n",
       "      <td>2</td>\n",
       "    </tr>\n",
       "    <tr>\n",
       "      <th>1504</th>\n",
       "      <td>7-Eleven, Inc.</td>\n",
       "      <td>Cakes, Cupcakes, Snack Cakes</td>\n",
       "      <td>1</td>\n",
       "    </tr>\n",
       "  </tbody>\n",
       "</table>\n",
       "</div>"
      ],
      "text/plain": [
       "         brand_owner                     branded_food_category  fdc_id\n",
       "658   7-Eleven, Inc.                  Chips, Pretzels & Snacks       3\n",
       "692   7-Eleven, Inc.                                     Candy       2\n",
       "1495  7-Eleven, Inc.                 Ice Cream & Frozen Yogurt       2\n",
       "1496  7-Eleven, Inc.  Popcorn, Peanuts, Seeds & Related Snacks       2\n",
       "1497  7-Eleven, Inc.                                      Soda       2\n",
       "1504  7-Eleven, Inc.              Cakes, Cupcakes, Snack Cakes       1"
      ]
     },
     "execution_count": 67,
     "metadata": {},
     "output_type": "execute_result"
    }
   ],
   "source": [
    "agregace = food_merged_brands.groupby([\"brand_owner\", \"branded_food_category\"])[\"fdc_id\"].nunique().sort_values(ascending=False).reset_index()\n",
    "agregace.head(20)\n",
    "\n",
    "seven_eleven = agregace[agregace[\"brand_owner\"] == \"7-Eleven, Inc.\"]\n",
    "\n",
    "seven_eleven"
   ]
  },
  {
   "cell_type": "markdown",
   "metadata": {},
   "source": [
    "Navíc - kteří výrobci vyrábějí více než jednu produktovou kategorii? :)"
   ]
  },
  {
   "cell_type": "code",
   "execution_count": 77,
   "metadata": {},
   "outputs": [
    {
     "data": {
      "text/html": [
       "<div>\n",
       "<style scoped>\n",
       "    .dataframe tbody tr th:only-of-type {\n",
       "        vertical-align: middle;\n",
       "    }\n",
       "\n",
       "    .dataframe tbody tr th {\n",
       "        vertical-align: top;\n",
       "    }\n",
       "\n",
       "    .dataframe thead th {\n",
       "        text-align: right;\n",
       "    }\n",
       "</style>\n",
       "<table border=\"1\" class=\"dataframe\">\n",
       "  <thead>\n",
       "    <tr style=\"text-align: right;\">\n",
       "      <th></th>\n",
       "      <th>brand_owner</th>\n",
       "      <th>branded_food_category</th>\n",
       "      <th>product_count</th>\n",
       "    </tr>\n",
       "  </thead>\n",
       "  <tbody>\n",
       "    <tr>\n",
       "      <th>0</th>\n",
       "      <td>4C Foods Corp.</td>\n",
       "      <td>Cheese</td>\n",
       "      <td>1</td>\n",
       "    </tr>\n",
       "    <tr>\n",
       "      <th>1</th>\n",
       "      <td>4C Foods Corp.</td>\n",
       "      <td>Powdered Drinks</td>\n",
       "      <td>1</td>\n",
       "    </tr>\n",
       "    <tr>\n",
       "      <th>2</th>\n",
       "      <td>7-Eleven, Inc.</td>\n",
       "      <td>Cakes, Cupcakes, Snack Cakes</td>\n",
       "      <td>1</td>\n",
       "    </tr>\n",
       "    <tr>\n",
       "      <th>3</th>\n",
       "      <td>7-Eleven, Inc.</td>\n",
       "      <td>Candy</td>\n",
       "      <td>1</td>\n",
       "    </tr>\n",
       "    <tr>\n",
       "      <th>4</th>\n",
       "      <td>7-Eleven, Inc.</td>\n",
       "      <td>Chips, Pretzels &amp; Snacks</td>\n",
       "      <td>1</td>\n",
       "    </tr>\n",
       "    <tr>\n",
       "      <th>...</th>\n",
       "      <td>...</td>\n",
       "      <td>...</td>\n",
       "      <td>...</td>\n",
       "    </tr>\n",
       "    <tr>\n",
       "      <th>3596</th>\n",
       "      <td>Zaika Flavours Of India Inc.</td>\n",
       "      <td>Other Deli</td>\n",
       "      <td>1</td>\n",
       "    </tr>\n",
       "    <tr>\n",
       "      <th>3597</th>\n",
       "      <td>Zaika Flavours Of India Inc.</td>\n",
       "      <td>Pickles, Olives, Peppers &amp; Relishes</td>\n",
       "      <td>1</td>\n",
       "    </tr>\n",
       "    <tr>\n",
       "      <th>3598</th>\n",
       "      <td>Zatarain's Inc.</td>\n",
       "      <td>Bread &amp; Muffin Mixes</td>\n",
       "      <td>1</td>\n",
       "    </tr>\n",
       "    <tr>\n",
       "      <th>3599</th>\n",
       "      <td>Zatarain's Inc.</td>\n",
       "      <td>Flavored Rice Dishes</td>\n",
       "      <td>1</td>\n",
       "    </tr>\n",
       "    <tr>\n",
       "      <th>3600</th>\n",
       "      <td>Zatarain's Inc.</td>\n",
       "      <td>Frozen Dinners &amp; Entrees</td>\n",
       "      <td>1</td>\n",
       "    </tr>\n",
       "  </tbody>\n",
       "</table>\n",
       "<p>3601 rows × 3 columns</p>\n",
       "</div>"
      ],
      "text/plain": [
       "                       brand_owner                branded_food_category  \\\n",
       "0                   4C Foods Corp.                               Cheese   \n",
       "1                   4C Foods Corp.                      Powdered Drinks   \n",
       "2                   7-Eleven, Inc.         Cakes, Cupcakes, Snack Cakes   \n",
       "3                   7-Eleven, Inc.                                Candy   \n",
       "4                   7-Eleven, Inc.             Chips, Pretzels & Snacks   \n",
       "...                            ...                                  ...   \n",
       "3596  Zaika Flavours Of India Inc.                           Other Deli   \n",
       "3597  Zaika Flavours Of India Inc.  Pickles, Olives, Peppers & Relishes   \n",
       "3598               Zatarain's Inc.                 Bread & Muffin Mixes   \n",
       "3599               Zatarain's Inc.                 Flavored Rice Dishes   \n",
       "3600               Zatarain's Inc.             Frozen Dinners & Entrees   \n",
       "\n",
       "      product_count  \n",
       "0                 1  \n",
       "1                 1  \n",
       "2                 1  \n",
       "3                 1  \n",
       "4                 1  \n",
       "...             ...  \n",
       "3596              1  \n",
       "3597              1  \n",
       "3598              1  \n",
       "3599              1  \n",
       "3600              1  \n",
       "\n",
       "[3601 rows x 3 columns]"
      ]
     },
     "execution_count": 77,
     "metadata": {},
     "output_type": "execute_result"
    }
   ],
   "source": [
    "duplicates = agregace[agregace[\"brand_owner\"].duplicated(keep=False)]\n",
    "duplicate_counts = duplicates.groupby([\"brand_owner\", \"branded_food_category\"])[\"fdc_id\"].size().reset_index(name=\"product_count\")\n",
    "duplicate_counts = duplicates.groupby(['brand_owner', 'branded_food_category'])['fdc_id'].nunique().reset_index(name='product_count')\n",
    "\n",
    "duplicate_counts # Pozn. TBD Kolik produktů je v každé kategorii?"
   ]
  }
 ],
 "metadata": {
  "kernelspec": {
   "display_name": "Python 3",
   "language": "python",
   "name": "python3"
  },
  "language_info": {
   "codemirror_mode": {
    "name": "ipython",
    "version": 3
   },
   "file_extension": ".py",
   "mimetype": "text/x-python",
   "name": "python",
   "nbconvert_exporter": "python",
   "pygments_lexer": "ipython3",
   "version": "3.12.7"
  }
 },
 "nbformat": 4,
 "nbformat_minor": 2
}

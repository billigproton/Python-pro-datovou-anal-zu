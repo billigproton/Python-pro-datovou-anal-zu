{
 "cells": [
  {
   "cell_type": "markdown",
   "metadata": {},
   "source": [
    "# Cvičení 2 - Výrobci a kategorie"
   ]
  },
  {
   "cell_type": "markdown",
   "metadata": {},
   "source": [
    "Nyní uvažuj, že si chceme udělat přehled o tom, jaký výrobce produkuje jaké typy potravin. Proveď agregaci tabulky food_merged_brands podle dvou sloupců: brand_owner a branded_food_category. Sloupce musíš metodě food_merged_brands zadat jako seznam, tj. musíš použít hranaté závorky. Dále vyber sloupec fdc_id pro provedení agregace a použij agregaci nunique(), který vrátí počet unikátních hodnot. Nakonec použij metodu sort_values s tím, že chceš data seřadit sestupně."
   ]
  },
  {
   "cell_type": "code",
   "execution_count": null,
   "metadata": {},
   "outputs": [],
   "source": [
    "import pandas as pd\n",
    "\n",
    "food_merged_brands = pd.read_csv(r'C:\\Users\\Lenovo\\OneDrive\\Dokumenty\\CZECHITAS-LAPTOP-BTGJD9J5\\Python pro datovou analýzu\\lekce3_cviceni\\spojovani\\food_merged_brands_.csv')"
   ]
  },
  {
   "cell_type": "code",
   "execution_count": 2,
   "metadata": {},
   "outputs": [
    {
     "data": {
      "text/plain": [
       "brand_owner                branded_food_category               \n",
       "Ferrara Candy Company      Candy                                   40\n",
       "CAMPBELL SOUP COMPANY      Prepared Soups                          29\n",
       "Danone US, LLC             Yogurt                                  24\n",
       "Bimbo Bakeries USA, Inc.   Breads & Buns                           24\n",
       "Wells Enterprises, Inc.    Ice Cream & Frozen Yogurt               24\n",
       "                                                                   ..\n",
       "Hempler Foods Group LLC    Sausages, Hotdogs & Brats                1\n",
       "Heinz USA                  Pickles, Olives, Peppers & Relishes      1\n",
       "Heinz Frozen Food Company  Canned Soup                              1\n",
       "Heintz & Weber Co Inc      Ketchup, Mustard, BBQ & Cheese Sauce     1\n",
       "pure batch LLC             Chocolate                                1\n",
       "Name: fdc_id, Length: 5892, dtype: int64"
      ]
     },
     "execution_count": 2,
     "metadata": {},
     "output_type": "execute_result"
    }
   ],
   "source": [
    "food_merged_brands.groupby([\"brand_owner\", \"branded_food_category\"])[\"fdc_id\"].nunique().sort_values(ascending=False)"
   ]
  }
 ],
 "metadata": {
  "kernelspec": {
   "display_name": "Python 3",
   "language": "python",
   "name": "python3"
  },
  "language_info": {
   "codemirror_mode": {
    "name": "ipython",
    "version": 3
   },
   "file_extension": ".py",
   "mimetype": "text/x-python",
   "name": "python",
   "nbconvert_exporter": "python",
   "pygments_lexer": "ipython3",
   "version": "3.11.5"
  }
 },
 "nbformat": 4,
 "nbformat_minor": 2
}

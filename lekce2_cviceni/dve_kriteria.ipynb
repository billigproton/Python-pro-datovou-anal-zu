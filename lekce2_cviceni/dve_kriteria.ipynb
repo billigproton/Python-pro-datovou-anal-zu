{
 "cells": [
  {
   "cell_type": "markdown",
   "metadata": {},
   "source": [
    "# Cvičení 4 - Dvě kritéria"
   ]
  },
  {
   "cell_type": "markdown",
   "metadata": {},
   "source": [
    "Nejdříve ze všeho - naimportování knihovny pandas a načtení dat"
   ]
  },
  {
   "cell_type": "code",
   "execution_count": 10,
   "metadata": {},
   "outputs": [
    {
     "ename": "",
     "evalue": "",
     "output_type": "error",
     "traceback": [
      "\u001b[1;31mThe Kernel crashed while executing code in the the current cell or a previous cell. Please review the code in the cell(s) to identify a possible cause of the failure. Click <a href='https://aka.ms/vscodeJupyterKernelCrash'>here</a> for more info. View Jupyter <a href='command:jupyter.viewOutput'>log</a> for further details."
     ]
    }
   ],
   "source": [
    "import pandas as pd\n",
    "\n",
    "potraviny = pd.read_csv(r'C:\\Users\\Lenovo\\OneDrive\\Dokumenty\\CZECHITAS-LAPTOP-BTGJD9J5\\Python pro datovou analýzu\\food_nutrient.csv')\n"
   ]
  },
  {
   "cell_type": "markdown",
   "metadata": {},
   "source": [
    "Připravujeme seznam potravin pro účely lékařského výzkumu, který se bude zabývat kardiovaskulárním systémem. Chceme vybrat potraviny, které splňují dvě kritéria:\n",
    "\n",
    "* nízký obsah nasycených mastných kyselin (\"Fatty acids, total saturated\", uvažuj méně než 1 gram),\n",
    "* vysoký obsah vlákniny (\"Fiber, total dietary\", uvažuj více než 5 gramů).\n",
    "\n",
    "Zatímco nasycené mastné kyseliny jsou považovány za spíše škodlivé pro kardiovaskulární systém, vláknina je považována spíše za prospěšnou."
   ]
  },
  {
   "cell_type": "markdown",
   "metadata": {},
   "source": [
    "---"
   ]
  },
  {
   "cell_type": "markdown",
   "metadata": {},
   "source": [
    "K řešení bych zde spíš přistupoval iterativně, než se snažit napsat složenou podmínku najednou - mohou nás po cestě potkat faktory, které bude třeba podchytit (např. omezujeme gramáž, tudíž unit_name musíme také omezit na 'G'\n",
    "\n"
   ]
  },
  {
   "cell_type": "markdown",
   "metadata": {},
   "source": [
    "V první řadě si ověříme hypotézu zmíněnou výše - existuje v tabulce záznam, kde by hodnota nasycených mastných kyselin byla v miligramech?"
   ]
  },
  {
   "cell_type": "code",
   "execution_count": null,
   "metadata": {},
   "outputs": [],
   "source": [
    "hodnota_kyselin_mg = potraviny[(potraviny['name'] == 'Fatty acids, total saturated') & (potraviny['unit_name'] == 'MG')]\n",
    "\n",
    "hodnota_kyselin_mg\n"
   ]
  },
  {
   "cell_type": "markdown",
   "metadata": {},
   "source": [
    "Výsledkem je prázdná tabulka - takový záznam tedy neexistuje a můžeme vytvořit první podmínku"
   ]
  },
  {
   "cell_type": "code",
   "execution_count": null,
   "metadata": {},
   "outputs": [],
   "source": [
    "potraviny[(potraviny['name'] == 'Fatty acids, total saturated') & (potraviny['amount'] < 1)]"
   ]
  },
  {
   "cell_type": "markdown",
   "metadata": {},
   "source": [
    "Druhá podmínka - opět bych ověřil, zda máme hodnoty i v miligramech"
   ]
  },
  {
   "cell_type": "code",
   "execution_count": null,
   "metadata": {},
   "outputs": [],
   "source": [
    "potraviny[(potraviny['name'] == 'Fiber, total dietary') & (potraviny['unit_name'] == \"MG\")]"
   ]
  },
  {
   "cell_type": "markdown",
   "metadata": {},
   "source": [
    "Opět prázdná tabulka - jdeme vytvořit druhou podmínku"
   ]
  },
  {
   "cell_type": "code",
   "execution_count": null,
   "metadata": {},
   "outputs": [],
   "source": [
    "potraviny[(potraviny['name'] == 'Fiber, total dietary') & (potraviny['amount'] > 5)]"
   ]
  },
  {
   "cell_type": "markdown",
   "metadata": {},
   "source": [
    "Nyní spojíme obě podmínky dohromady a vybereme prospěšné potraviny - pozor na závorky a správnou logickou operaci!"
   ]
  },
  {
   "cell_type": "code",
   "execution_count": null,
   "metadata": {},
   "outputs": [],
   "source": [
    "prospesne_potraviny = potraviny[((potraviny['name'] == 'Fatty acids, total saturated') & (potraviny['amount'] < 1)) | ((potraviny['name'] == 'Fiber, total dietary') & (potraviny['amount'] > 5))]\n",
    "\n",
    "prospesne_potraviny"
   ]
  }
 ],
 "metadata": {
  "kernelspec": {
   "display_name": "Python 3",
   "language": "python",
   "name": "python3"
  },
  "language_info": {
   "codemirror_mode": {
    "name": "ipython",
    "version": 3
   },
   "file_extension": ".py",
   "mimetype": "text/x-python",
   "name": "python",
   "nbconvert_exporter": "python",
   "pygments_lexer": "ipython3",
   "version": "3.11.5"
  }
 },
 "nbformat": 4,
 "nbformat_minor": 2
}

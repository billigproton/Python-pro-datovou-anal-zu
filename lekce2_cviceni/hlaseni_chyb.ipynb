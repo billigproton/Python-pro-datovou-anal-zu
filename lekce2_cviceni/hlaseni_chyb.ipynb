{
 "cells": [
  {
   "cell_type": "markdown",
   "metadata": {},
   "source": [
    "# Cvičení 2 - Hlášení chyb"
   ]
  },
  {
   "cell_type": "markdown",
   "metadata": {},
   "source": [
    "Nejdříve ze všeho - naimportování knihovny pandas a načtení dat"
   ]
  },
  {
   "cell_type": "code",
   "execution_count": 1,
   "metadata": {},
   "outputs": [],
   "source": [
    "import pandas as pd\n",
    "\n",
    "potraviny = pd.read_csv(r\"C:\\Users\\Daniel Rabiencný\\OneDrive\\Dokumenty\\CZECHITAS-LAPTOP-BTGJD9J5\\Python pro datovou analýzu\\food_nutrient.csv\")"
   ]
  },
  {
   "cell_type": "markdown",
   "metadata": {},
   "source": [
    "V datech se bohužel můžou vyskytnout i chyby. V případě výživných látek jsou uváděné hodnoty vždy přepočtené na 100 gramů potraviny. Chybou by tedy například bylo, pokud by bylo nějaké výživné látky v potravině více než 100 gramů, tj. výživné látky by bylo více než samotné potraviny. Podobně to platí i pro miligramy. Více než 100 000 miligramů výživné látky též nedává smysl (1 gram = 1 000 miligramů).\n",
    "\n",
    "Vyhledej všechny řádky, kde jsou hodnoty v miligramech (ve sloupci unit_name je hodnota MG) a množství látky (sloupec amount) má větší hodnotu než 100 000. Ulož tato data do tabulky error_report.csv. K tomu využij metodu .to_csv(), které zadáš jako parametr název tabulky. "
   ]
  },
  {
   "cell_type": "code",
   "execution_count": 2,
   "metadata": {},
   "outputs": [],
   "source": [
    "chyby = potraviny[(potraviny['unit_name'] == 'MG') & (potraviny['amount'] > 100000)]\n",
    "\n",
    "chyby = chyby.to_csv('error_report.csv')"
   ]
  }
 ],
 "metadata": {
  "kernelspec": {
   "display_name": "Python 3",
   "language": "python",
   "name": "python3"
  },
  "language_info": {
   "codemirror_mode": {
    "name": "ipython",
    "version": 3
   },
   "file_extension": ".py",
   "mimetype": "text/x-python",
   "name": "python",
   "nbconvert_exporter": "python",
   "pygments_lexer": "ipython3",
   "version": "3.12.7"
  }
 },
 "nbformat": 4,
 "nbformat_minor": 2
}

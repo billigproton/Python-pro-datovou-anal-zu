{
 "cells": [
  {
   "cell_type": "markdown",
   "metadata": {},
   "source": [
    "# Cvičení 3 - Česká jména"
   ]
  },
  {
   "cell_type": "markdown",
   "metadata": {},
   "source": [
    "Nejdříve ze všeho - naimportování knihovny pandas a načtení dat"
   ]
  },
  {
   "cell_type": "code",
   "execution_count": 1,
   "metadata": {},
   "outputs": [
    {
     "data": {
      "text/html": [
       "<div>\n",
       "<style scoped>\n",
       "    .dataframe tbody tr th:only-of-type {\n",
       "        vertical-align: middle;\n",
       "    }\n",
       "\n",
       "    .dataframe tbody tr th {\n",
       "        vertical-align: top;\n",
       "    }\n",
       "\n",
       "    .dataframe thead th {\n",
       "        text-align: right;\n",
       "    }\n",
       "</style>\n",
       "<table border=\"1\" class=\"dataframe\">\n",
       "  <thead>\n",
       "    <tr style=\"text-align: right;\">\n",
       "      <th></th>\n",
       "      <th>jméno</th>\n",
       "      <th>četnost</th>\n",
       "      <th>věk</th>\n",
       "      <th>pohlaví</th>\n",
       "      <th>původ</th>\n",
       "    </tr>\n",
       "  </thead>\n",
       "  <tbody>\n",
       "    <tr>\n",
       "      <th>0</th>\n",
       "      <td>Jiří</td>\n",
       "      <td>296090</td>\n",
       "      <td>49</td>\n",
       "      <td>m</td>\n",
       "      <td>řecký</td>\n",
       "    </tr>\n",
       "    <tr>\n",
       "      <th>1</th>\n",
       "      <td>Jan</td>\n",
       "      <td>293938</td>\n",
       "      <td>40</td>\n",
       "      <td>m</td>\n",
       "      <td>hebrejský</td>\n",
       "    </tr>\n",
       "    <tr>\n",
       "      <th>2</th>\n",
       "      <td>Petr</td>\n",
       "      <td>272135</td>\n",
       "      <td>42</td>\n",
       "      <td>m</td>\n",
       "      <td>řecký</td>\n",
       "    </tr>\n",
       "    <tr>\n",
       "      <th>3</th>\n",
       "      <td>Jana</td>\n",
       "      <td>264944</td>\n",
       "      <td>50</td>\n",
       "      <td>ž</td>\n",
       "      <td>hebrejský</td>\n",
       "    </tr>\n",
       "    <tr>\n",
       "      <th>4</th>\n",
       "      <td>Marie</td>\n",
       "      <td>260526</td>\n",
       "      <td>65</td>\n",
       "      <td>ž</td>\n",
       "      <td>hebrejský</td>\n",
       "    </tr>\n",
       "    <tr>\n",
       "      <th>...</th>\n",
       "      <td>...</td>\n",
       "      <td>...</td>\n",
       "      <td>...</td>\n",
       "      <td>...</td>\n",
       "      <td>...</td>\n",
       "    </tr>\n",
       "    <tr>\n",
       "      <th>95</th>\n",
       "      <td>Jindřich</td>\n",
       "      <td>26230</td>\n",
       "      <td>51</td>\n",
       "      <td>m</td>\n",
       "      <td>německý</td>\n",
       "    </tr>\n",
       "    <tr>\n",
       "      <th>96</th>\n",
       "      <td>Vlastimil</td>\n",
       "      <td>26014</td>\n",
       "      <td>54</td>\n",
       "      <td>m</td>\n",
       "      <td>slovanský</td>\n",
       "    </tr>\n",
       "    <tr>\n",
       "      <th>97</th>\n",
       "      <td>Iva</td>\n",
       "      <td>26003</td>\n",
       "      <td>46</td>\n",
       "      <td>ž</td>\n",
       "      <td>slovanský</td>\n",
       "    </tr>\n",
       "    <tr>\n",
       "      <th>98</th>\n",
       "      <td>Miloš</td>\n",
       "      <td>25509</td>\n",
       "      <td>53</td>\n",
       "      <td>m</td>\n",
       "      <td>slovanský</td>\n",
       "    </tr>\n",
       "    <tr>\n",
       "      <th>99</th>\n",
       "      <td>Zdenka</td>\n",
       "      <td>25416</td>\n",
       "      <td>68</td>\n",
       "      <td>ž</td>\n",
       "      <td>slovanský</td>\n",
       "    </tr>\n",
       "  </tbody>\n",
       "</table>\n",
       "<p>100 rows × 5 columns</p>\n",
       "</div>"
      ],
      "text/plain": [
       "        jméno  četnost  věk pohlaví      původ\n",
       "0        Jiří   296090   49       m      řecký\n",
       "1         Jan   293938   40       m  hebrejský\n",
       "2        Petr   272135   42       m      řecký\n",
       "3        Jana   264944   50       ž  hebrejský\n",
       "4       Marie   260526   65       ž  hebrejský\n",
       "..        ...      ...  ...     ...        ...\n",
       "95   Jindřich    26230   51       m    německý\n",
       "96  Vlastimil    26014   54       m  slovanský\n",
       "97        Iva    26003   46       ž  slovanský\n",
       "98      Miloš    25509   53       m  slovanský\n",
       "99     Zdenka    25416   68       ž  slovanský\n",
       "\n",
       "[100 rows x 5 columns]"
      ]
     },
     "execution_count": 1,
     "metadata": {},
     "output_type": "execute_result"
    }
   ],
   "source": [
    "import pandas as pd\n",
    "\n",
    "jmena = pd.read_csv(r'C:\\Users\\Lenovo\\OneDrive\\Dokumenty\\CZECHITAS-LAPTOP-BTGJD9J5\\Python pro datovou analýzu\\jmena.csv')\n",
    "\n",
    "jmena"
   ]
  },
  {
   "cell_type": "markdown",
   "metadata": {},
   "source": [
    "1. Vypiš všechny řádky se jmény, jejichž nositelé mají průměrný věk vyšší než 60."
   ]
  },
  {
   "cell_type": "code",
   "execution_count": null,
   "metadata": {},
   "outputs": [],
   "source": [
    "starsi_60_let = jmena[jmena['věk'] > 60]\n",
    "\n",
    "starsi_60_let"
   ]
  },
  {
   "cell_type": "markdown",
   "metadata": {},
   "source": [
    "2. Vypiš pouze jména z těch řádků, kde četnost je mezi 80 000 a 100 000."
   ]
  },
  {
   "cell_type": "code",
   "execution_count": null,
   "metadata": {},
   "outputs": [],
   "source": [
    "cetnost_80_100_tisic = jmena[(jmena['četnost'] >= 80_000) & (jmena['četnost'] <= 100_000)]\n",
    "\n",
    "cetnost_80_100_tisic"
   ]
  },
  {
   "cell_type": "markdown",
   "metadata": {},
   "source": [
    "3. Vypiš jména a četnost pro jména se slovanským nebo hebrejským původem. "
   ]
  },
  {
   "cell_type": "code",
   "execution_count": null,
   "metadata": {},
   "outputs": [],
   "source": [
    "# standardní cesta\n",
    "\n",
    "heb_slov_puvod = jmena[(jmena['původ'] == 'hebrejský') | (jmena['původ'] == 'slovanský')]\n",
    "\n",
    "heb_slov_puvod\n",
    "\n",
    "# rychlejší cesta - metodou .isin()\n",
    "\n",
    "heb_slov_puvod = jmena[jmena['původ'].isin(['hebrejský', 'slovanský'])]\n",
    "\n",
    "heb_slov_puvod"
   ]
  },
  {
   "cell_type": "markdown",
   "metadata": {},
   "source": [
    "Kolik takových jmen je?"
   ]
  },
  {
   "cell_type": "code",
   "execution_count": null,
   "metadata": {},
   "outputs": [],
   "source": [
    "# metodou shape(), nultá pozice - počet řádků\n",
    "\n",
    "pocet_heb_slov = heb_slov_puvod.shape[0]\n",
    "\n",
    "pocet_heb_slov\n",
    "\n",
    "# metoda info() - základní informace o Data Framu\n",
    "\n",
    "pocet_heb_slov = heb_slov_puvod.info()\n",
    "\n"
   ]
  }
 ],
 "metadata": {
  "kernelspec": {
   "display_name": "Python 3",
   "language": "python",
   "name": "python3"
  },
  "language_info": {
   "codemirror_mode": {
    "name": "ipython",
    "version": 3
   },
   "file_extension": ".py",
   "mimetype": "text/x-python",
   "name": "python",
   "nbconvert_exporter": "python",
   "pygments_lexer": "ipython3",
   "version": "3.11.5"
  }
 },
 "nbformat": 4,
 "nbformat_minor": 2
}

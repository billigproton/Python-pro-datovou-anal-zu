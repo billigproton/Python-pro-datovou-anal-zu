{
 "cells": [
  {
   "cell_type": "code",
   "execution_count": 4,
   "metadata": {},
   "outputs": [
    {
     "name": "stdout",
     "output_type": "stream",
     "text": [
      "2.1.0\n",
      "3.7.2\n",
      "0.12.2\n"
     ]
    }
   ],
   "source": [
    "# Mám vše stažené?\n",
    "\n",
    "import pandas\n",
    "import matplotlib\n",
    "import seaborn\n",
    "\n",
    "print(pandas.__version__)\n",
    "print(matplotlib.__version__)\n",
    "print(seaborn.__version__)"
   ]
  }
 ],
 "metadata": {
  "kernelspec": {
   "display_name": "Python 3",
   "language": "python",
   "name": "python3"
  },
  "language_info": {
   "codemirror_mode": {
    "name": "ipython",
    "version": 3
   },
   "file_extension": ".py",
   "mimetype": "text/x-python",
   "name": "python",
   "nbconvert_exporter": "python",
   "pygments_lexer": "ipython3",
   "version": "3.11.5"
  }
 },
 "nbformat": 4,
 "nbformat_minor": 2
}

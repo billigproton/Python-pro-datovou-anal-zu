{
 "cells": [
  {
   "cell_type": "markdown",
   "id": "cbb72323",
   "metadata": {},
   "source": [
    "Titanic data set - cvičení"
   ]
  },
  {
   "cell_type": "markdown",
   "id": "b990d9df",
   "metadata": {},
   "source": [
    "nejdříve ze všeho - naimportování pandas"
   ]
  },
  {
   "cell_type": "code",
   "execution_count": 4,
   "id": "891343c6",
   "metadata": {},
   "outputs": [],
   "source": [
    "import pandas"
   ]
  },
  {
   "cell_type": "markdown",
   "id": "99cb7490",
   "metadata": {},
   "source": [
    "1 - načtení souboru do Data Frame a do proměnné titanic "
   ]
  },
  {
   "cell_type": "code",
   "execution_count": 5,
   "id": "81a7265d",
   "metadata": {},
   "outputs": [],
   "source": [
    "titanic = pandas.read_csv('titanic.csv')\n",
    "\n",
    " # nebo cestou url\n",
    "\n",
    "url = 'https://kodim.cz/cms/assets/analyza-dat/python-data-1/python-pro-data-1/nacteni-dat/excs/titanic/titanic.csv'\n",
    "\n",
    "titanic = pandas.read_csv(url)"
   ]
  },
  {
   "cell_type": "markdown",
   "id": "fae9b8bd",
   "metadata": {},
   "source": [
    "2 - zobrazení názvu sloupců"
   ]
  },
  {
   "cell_type": "code",
   "execution_count": 6,
   "id": "a58f7b02",
   "metadata": {},
   "outputs": [
    {
     "data": {
      "text/plain": [
       "Index(['PassengerId', 'Survived', 'Pclass', 'Name', 'Sex', 'Age', 'SibSp',\n",
       "       'Parch', 'Ticket', 'Fare', 'Cabin', 'Embarked'],\n",
       "      dtype='object')"
      ]
     },
     "execution_count": 6,
     "metadata": {},
     "output_type": "execute_result"
    }
   ],
   "source": [
    "titanic.columns"
   ]
  },
  {
   "cell_type": "markdown",
   "id": "c1903b38",
   "metadata": {},
   "source": [
    "3 - kolik má dataset řádků?"
   ]
  },
  {
   "cell_type": "code",
   "execution_count": 7,
   "id": "2110f37d",
   "metadata": {},
   "outputs": [
    {
     "data": {
      "text/plain": [
       "891"
      ]
     },
     "execution_count": 7,
     "metadata": {},
     "output_type": "execute_result"
    }
   ],
   "source": [
    "titanic.shape[0]\n"
   ]
  },
  {
   "cell_type": "markdown",
   "id": "4de9eefe",
   "metadata": {},
   "source": [
    "4 - průměrný věk pasažérů?, 5 - nejstarší pasažér?"
   ]
  },
  {
   "cell_type": "code",
   "execution_count": 8,
   "id": "c94d4238",
   "metadata": {},
   "outputs": [
    {
     "name": "stdout",
     "output_type": "stream",
     "text": [
      "       PassengerId    Survived      Pclass         Age       SibSp  \\\n",
      "count   891.000000  891.000000  891.000000  714.000000  891.000000   \n",
      "mean    446.000000    0.383838    2.308642   29.699118    0.523008   \n",
      "std     257.353842    0.486592    0.836071   14.526497    1.102743   \n",
      "min       1.000000    0.000000    1.000000    0.420000    0.000000   \n",
      "25%     223.500000    0.000000    2.000000   20.125000    0.000000   \n",
      "50%     446.000000    0.000000    3.000000   28.000000    0.000000   \n",
      "75%     668.500000    1.000000    3.000000   38.000000    1.000000   \n",
      "max     891.000000    1.000000    3.000000   80.000000    8.000000   \n",
      "\n",
      "            Parch        Fare  \n",
      "count  891.000000  891.000000  \n",
      "mean     0.381594   32.204208  \n",
      "std      0.806057   49.693429  \n",
      "min      0.000000    0.000000  \n",
      "25%      0.000000    7.910400  \n",
      "50%      0.000000   14.454200  \n",
      "75%      0.000000   31.000000  \n",
      "max      6.000000  512.329200  \n"
     ]
    },
    {
     "data": {
      "text/plain": [
       "80.0"
      ]
     },
     "execution_count": 8,
     "metadata": {},
     "output_type": "execute_result"
    }
   ],
   "source": [
    "print(titanic.describe())\n",
    "\n",
    " # navíc - kdybychom chtěli z výsledného Dataframu vydolovat JEN tu hodnotu nejstaršího pasažéra\n",
    "statisticky_souhrn = titanic.describe()\n",
    "\n",
    "nejstarsi_pasazer = statisticky_souhrn['Age']['max']\n",
    "\n",
    "nejstarsi_pasazer"
   ]
  }
 ],
 "metadata": {
  "kernelspec": {
   "display_name": "Python 3 (ipykernel)",
   "language": "python",
   "name": "python3"
  },
  "language_info": {
   "codemirror_mode": {
    "name": "ipython",
    "version": 3
   },
   "file_extension": ".py",
   "mimetype": "text/x-python",
   "name": "python",
   "nbconvert_exporter": "python",
   "pygments_lexer": "ipython3",
   "version": "3.11.5"
  }
 },
 "nbformat": 4,
 "nbformat_minor": 5
}

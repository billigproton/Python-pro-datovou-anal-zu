{
 "cells": [
  {
   "cell_type": "code",
   "execution_count": 9,
   "metadata": {},
   "outputs": [],
   "source": [
    "from datetime import datetime, timedelta"
   ]
  },
  {
   "cell_type": "code",
   "execution_count": 10,
   "metadata": {},
   "outputs": [
    {
     "data": {
      "text/plain": [
       "datetime.datetime(2024, 2, 28, 19, 17, 21, 181929)"
      ]
     },
     "execution_count": 10,
     "metadata": {},
     "output_type": "execute_result"
    }
   ],
   "source": [
    "datetime.now()"
   ]
  },
  {
   "cell_type": "code",
   "execution_count": 11,
   "metadata": {},
   "outputs": [
    {
     "data": {
      "text/plain": [
       "datetime.datetime(1969, 7, 16, 14, 32)"
      ]
     },
     "execution_count": 11,
     "metadata": {},
     "output_type": "execute_result"
    }
   ],
   "source": [
    "apollo_start = datetime(1969, 7, 16, 14, 32)\n",
    "apollo_start\n"
   ]
  },
  {
   "cell_type": "markdown",
   "metadata": {},
   "source": [
    "Jaký den v týdnu je určité datum?"
   ]
  },
  {
   "cell_type": "markdown",
   "metadata": {},
   "source": [
    "funkce weekday() - čísluje od 0"
   ]
  },
  {
   "cell_type": "code",
   "execution_count": 12,
   "metadata": {},
   "outputs": [
    {
     "data": {
      "text/plain": [
       "2"
      ]
     },
     "execution_count": 12,
     "metadata": {},
     "output_type": "execute_result"
    }
   ],
   "source": [
    "apollo_start.weekday()"
   ]
  },
  {
   "cell_type": "markdown",
   "metadata": {},
   "source": [
    "funkce isoweekday() - čísluje od 1"
   ]
  },
  {
   "cell_type": "code",
   "execution_count": 13,
   "metadata": {},
   "outputs": [
    {
     "data": {
      "text/plain": [
       "3"
      ]
     },
     "execution_count": 13,
     "metadata": {},
     "output_type": "execute_result"
    }
   ],
   "source": [
    "apollo_start.isoweekday() "
   ]
  },
  {
   "cell_type": "markdown",
   "metadata": {},
   "source": [
    "print() - vypíše datum v ISO formátu (oddělovač data a času je mezera)"
   ]
  },
  {
   "cell_type": "code",
   "execution_count": 8,
   "metadata": {},
   "outputs": [
    {
     "name": "stdout",
     "output_type": "stream",
     "text": [
      "1969-07-16 14:32:00\n"
     ]
    }
   ],
   "source": [
    "print(apollo_start)"
   ]
  },
  {
   "cell_type": "markdown",
   "metadata": {},
   "source": [
    "stoprocentní ISO formát - datum a čas oddělen T"
   ]
  },
  {
   "cell_type": "code",
   "execution_count": 15,
   "metadata": {},
   "outputs": [
    {
     "data": {
      "text/plain": [
       "'1969-07-16T14:32:00'"
      ]
     },
     "execution_count": 15,
     "metadata": {},
     "output_type": "execute_result"
    }
   ],
   "source": [
    "apollo_start.isoformat()"
   ]
  },
  {
   "cell_type": "markdown",
   "metadata": {},
   "source": [
    "funkce strftime() - definice vlastního formátu pomcí tzv. direktiv (např. %d - den, %m - měsíc)"
   ]
  },
  {
   "cell_type": "code",
   "execution_count": 20,
   "metadata": {},
   "outputs": [
    {
     "data": {
      "text/plain": [
       "'16. 07. 1969, 14:32'"
      ]
     },
     "execution_count": 20,
     "metadata": {},
     "output_type": "execute_result"
    }
   ],
   "source": [
    "apollo_start.strftime(\"%d. %m. %Y, %H:%M\")"
   ]
  },
  {
   "cell_type": "markdown",
   "metadata": {},
   "source": [
    "Načtení získaných dat v ISO formátu"
   ]
  },
  {
   "cell_type": "code",
   "execution_count": 22,
   "metadata": {},
   "outputs": [],
   "source": [
    "apollo_pristani = datetime.fromisoformat(\"1969-07-21T18:54:00\")"
   ]
  },
  {
   "cell_type": "markdown",
   "metadata": {},
   "source": [
    "Funkce strptime() - zadáme datum formátu, abychom s ním mohli dál pracovat"
   ]
  },
  {
   "cell_type": "code",
   "execution_count": 23,
   "metadata": {},
   "outputs": [],
   "source": [
    "apollo_pristani = datetime.strptime(\"21. 7. 1969, 18:54\", \"%d. %m. %Y, %H:%M\")"
   ]
  },
  {
   "cell_type": "markdown",
   "metadata": {},
   "source": [
    "Často s daty potřebujeme počítat - to můžeme dělat, jak bychom čekali. Výsledek je hodnota typu timedelta"
   ]
  },
  {
   "cell_type": "code",
   "execution_count": 25,
   "metadata": {},
   "outputs": [
    {
     "data": {
      "text/plain": [
       "datetime.timedelta(days=5, seconds=15720)"
      ]
     },
     "execution_count": 25,
     "metadata": {},
     "output_type": "execute_result"
    }
   ],
   "source": [
    "delka_mise = apollo_pristani - apollo_start\n",
    "\n",
    "delka_mise"
   ]
  },
  {
   "cell_type": "markdown",
   "metadata": {},
   "source": [
    "cvičení - převod času (kodim)"
   ]
  },
  {
   "cell_type": "markdown",
   "metadata": {},
   "source": [
    "V proměnné apolloStart máme uložený datum a čas startu Apolla 11. Vypiš datum na obrazovku ve formátu, na který jsou zvyklí Američané, tj. na první místo napiš měsíc, dále den a nakonec rok, jako oddělovače použij lomítka. Čas vypisovat nemusíš."
   ]
  },
  {
   "cell_type": "code",
   "execution_count": 27,
   "metadata": {},
   "outputs": [
    {
     "data": {
      "text/plain": [
       "'07/16/1969'"
      ]
     },
     "execution_count": 27,
     "metadata": {},
     "output_type": "execute_result"
    }
   ],
   "source": [
    "apollo_start.strftime(\"%m/%d/%Y\")"
   ]
  },
  {
   "cell_type": "markdown",
   "metadata": {},
   "source": [
    "cvičení - čas od startu (kodim)"
   ]
  },
  {
   "cell_type": "markdown",
   "metadata": {},
   "source": [
    "Satelit Solar Orbiter, který má za cíl pozorování Slunce, odstartoval 10. února 2020 v 5:03. Ulož si hodnotu startu do proměnné.\n",
    "\n",
    "- Který den v týdnu Solar Orbiter odstartoval?\n",
    "- Spočítej, kolik času od jeho startu uplynulo."
   ]
  },
  {
   "cell_type": "code",
   "execution_count": 34,
   "metadata": {},
   "outputs": [
    {
     "data": {
      "text/plain": [
       "datetime.timedelta(days=1477, seconds=54501, microseconds=465934)"
      ]
     },
     "execution_count": 34,
     "metadata": {},
     "output_type": "execute_result"
    }
   ],
   "source": [
    "solar_orbiter_start = datetime(2020, 2, 12, 5, 3)\n",
    "\n",
    "# Který den v týdnu? - 3, takže středa\n",
    "\n",
    "den_v_tydnu = solar_orbiter_start.isoweekday()\n",
    "\n",
    "den_v_tydnu\n",
    "\n",
    "# Spočítej, kolik času od jeho startu uplynulo.\n",
    "\n",
    "uplynuly_cas = datetime.now() - solar_orbiter_start\n",
    "\n",
    "uplynuly_cas\n",
    "\n",
    "# "
   ]
  },
  {
   "cell_type": "markdown",
   "metadata": {},
   "source": [
    "cvičení - doprava večeře (kodim)"
   ]
  },
  {
   "cell_type": "markdown",
   "metadata": {},
   "source": [
    "Zákazník si objednal večeři na webu dovážkové služby 13. listopadu 2020 v 19:47. Víme, že převzetí objednávky restaurací v průměru trvá 8 minut a 35 sekund, příprava jídla trvá 30 minut a doprava jídla k zákazníkovi 25 minut a 30 sekund. Kdy očekáváme, že jídlo dorazí zákazníkovi?"
   ]
  },
  {
   "cell_type": "code",
   "execution_count": 37,
   "metadata": {},
   "outputs": [
    {
     "data": {
      "text/plain": [
       "datetime.datetime(2020, 11, 13, 20, 51, 5)"
      ]
     },
     "execution_count": 37,
     "metadata": {},
     "output_type": "execute_result"
    }
   ],
   "source": [
    "order_date = datetime(2020, 11, 13, 19, 47)\n",
    "\n",
    "order_pickup = timedelta(minutes=8, seconds=35)\n",
    "\n",
    "order_preparation = timedelta(minutes=30)\n",
    "\n",
    "order_delivery = timedelta(minutes=25, seconds=30)\n",
    "\n",
    "order_delivery_time = order_date + order_pickup + order_preparation + order_delivery\n",
    "\n",
    "order_delivery_time\n"
   ]
  }
 ],
 "metadata": {
  "kernelspec": {
   "display_name": "Python 3",
   "language": "python",
   "name": "python3"
  },
  "language_info": {
   "codemirror_mode": {
    "name": "ipython",
    "version": 3
   },
   "file_extension": ".py",
   "mimetype": "text/x-python",
   "name": "python",
   "nbconvert_exporter": "python",
   "pygments_lexer": "ipython3",
   "version": "3.11.5"
  }
 },
 "nbformat": 4,
 "nbformat_minor": 2
}
